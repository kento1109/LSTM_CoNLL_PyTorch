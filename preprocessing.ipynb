{
 "cells": [
  {
   "cell_type": "code",
   "execution_count": 99,
   "metadata": {},
   "outputs": [],
   "source": [
    "import codecs\n",
    "import collections\n",
    "from torchtext import data, datasets\n",
    "import cPickle\n",
    "\n",
    "target_dir = '/mnt/d/data/tagger/dataset/'\n",
    "train_file = target_dir + 'eng.train'"
   ]
  },
  {
   "cell_type": "code",
   "execution_count": 95,
   "metadata": {},
   "outputs": [],
   "source": [
    "def read_corpus(lines):\n",
    "    \"\"\"\n",
    "    convert corpus into features and labels\n",
    "    \"\"\"\n",
    "    features = list()\n",
    "    labels = list()\n",
    "    tmp_fl = list()\n",
    "    tmp_ll = list()\n",
    "    for line in lines:\n",
    "        if not (line.isspace() or (len(line) > 10 and line[0:10] == '-DOCSTART-')):\n",
    "            line = line.rstrip('\\n').split()\n",
    "            tmp_fl.append(line[0])\n",
    "            tmp_ll.append(line[-1])\n",
    "        elif len(tmp_fl) > 0:\n",
    "            features.append(tmp_fl)\n",
    "            labels.append(tmp_ll)\n",
    "            tmp_fl = list()\n",
    "            tmp_ll = list()\n",
    "    if len(tmp_fl) > 0:\n",
    "        features.append(tmp_fl)\n",
    "        labels.append(tmp_ll)\n",
    "\n",
    "    return features, labels"
   ]
  },
  {
   "cell_type": "code",
   "execution_count": 96,
   "metadata": {},
   "outputs": [],
   "source": [
    "def make_dic(doc_sent, doc_labels):\n",
    "    word2idx = collections.defaultdict(int)\n",
    "    label2idx = collections.defaultdict(int)\n",
    "    for sent, labels in zip(doc_sent, doc_labels):\n",
    "        for word, label in zip(sent, labels):\n",
    "            if word not in word2idx:\n",
    "                word2idx[word] = len(word2idx)\n",
    "            if label not in label2idx: \n",
    "                label2idx[label] = len(label2idx)\n",
    "        word2idx[u'<unk>'] = len(word2idx)\n",
    "    return word2idx, label2idx"
   ]
  },
  {
   "cell_type": "code",
   "execution_count": 97,
   "metadata": {},
   "outputs": [],
   "source": [
    "with codecs.open(train_file, 'r', 'utf-8') as f:\n",
    "    lines = f.readlines()\n",
    "\n",
    "# converting format\n",
    "train_features, train_labels = read_corpus(lines)\n",
    "# make dictionary\n",
    "word2idx, label2idx = make_dic(doc_sent=train_features, doc_labels=train_labels)"
   ]
  },
  {
   "cell_type": "code",
   "execution_count": 98,
   "metadata": {},
   "outputs": [],
   "source": [
    "sents_idx = [[word2idx[word] for word in sent] for sent in train_features]\n",
    "labels_idx = [[label2idx[label] for label in labels] for labels in train_labels]"
   ]
  },
  {
   "cell_type": "code",
   "execution_count": 101,
   "metadata": {},
   "outputs": [],
   "source": [
    "cPickle.dump([word2idx, label2idx, sents_idx, labels_idx], open(target_dir + \"CoNLL_train.pkl\", \"wb\"))"
   ]
  }
 ],
 "metadata": {
  "kernelspec": {
   "display_name": "Python 2",
   "language": "python",
   "name": "python2"
  },
  "language_info": {
   "codemirror_mode": {
    "name": "ipython",
    "version": 2
   },
   "file_extension": ".py",
   "mimetype": "text/x-python",
   "name": "python",
   "nbconvert_exporter": "python",
   "pygments_lexer": "ipython2",
   "version": "2.7.14"
  }
 },
 "nbformat": 4,
 "nbformat_minor": 2
}
